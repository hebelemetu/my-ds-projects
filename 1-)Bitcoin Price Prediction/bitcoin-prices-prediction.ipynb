{
 "cells": [
  {
   "cell_type": "code",
   "execution_count": 7,
   "metadata": {
    "_cell_guid": "9c3798b2-8bf6-40f0-ba22-e22efd44b8ae",
    "_uuid": "b2c4a03869fc7c25eac87abf5f440c04dba3bcb1"
   },
   "outputs": [],
   "source": [
    "#Gerekli kütüphanelerin yüklenmesi\n",
    "import pandas as pd\n",
    "import numpy as np\n",
    "import seaborn as sns\n",
    "import matplotlib.pyplot as plt\n",
    "%matplotlib inline"
   ]
  },
  {
   "cell_type": "code",
   "execution_count": 8,
   "metadata": {
    "_cell_guid": "4b35b51a-c532-413e-926c-a3309a104980",
    "_uuid": "cefc180c7757bd280c4270d0936a146b0dd6cc81"
   },
   "outputs": [],
   "source": [
    "#crypto-markets.csv dosyasından bitcoin datasetini okutarak pandas dataframe oluşturulması\n",
    "df= pd.read_csv('crypto-markets.csv', parse_dates=['date'], index_col='date')"
   ]
  },
  {
   "cell_type": "code",
   "execution_count": 9,
   "metadata": {
    "_cell_guid": "f0fd7a9d-453a-4b64-af72-1a947ddfcce8",
    "_uuid": "088e08461a36257d1b78cd0bff5c034cb3e400e4"
   },
   "outputs": [
    {
     "data": {
      "text/html": [
       "<div>\n",
       "<style scoped>\n",
       "    .dataframe tbody tr th:only-of-type {\n",
       "        vertical-align: middle;\n",
       "    }\n",
       "\n",
       "    .dataframe tbody tr th {\n",
       "        vertical-align: top;\n",
       "    }\n",
       "\n",
       "    .dataframe thead th {\n",
       "        text-align: right;\n",
       "    }\n",
       "</style>\n",
       "<table border=\"1\" class=\"dataframe\">\n",
       "  <thead>\n",
       "    <tr style=\"text-align: right;\">\n",
       "      <th></th>\n",
       "      <th>symbol</th>\n",
       "      <th>open</th>\n",
       "      <th>high</th>\n",
       "      <th>low</th>\n",
       "      <th>close</th>\n",
       "      <th>volume</th>\n",
       "      <th>market</th>\n",
       "      <th>name</th>\n",
       "      <th>ranknow</th>\n",
       "    </tr>\n",
       "    <tr>\n",
       "      <th>date</th>\n",
       "      <th></th>\n",
       "      <th></th>\n",
       "      <th></th>\n",
       "      <th></th>\n",
       "      <th></th>\n",
       "      <th></th>\n",
       "      <th></th>\n",
       "      <th></th>\n",
       "      <th></th>\n",
       "    </tr>\n",
       "  </thead>\n",
       "  <tbody>\n",
       "    <tr>\n",
       "      <th>2013-04-28</th>\n",
       "      <td>BTC</td>\n",
       "      <td>135.30</td>\n",
       "      <td>135.98</td>\n",
       "      <td>132.10</td>\n",
       "      <td>134.21</td>\n",
       "      <td>0</td>\n",
       "      <td>1500520000</td>\n",
       "      <td>Bitcoin</td>\n",
       "      <td>1</td>\n",
       "    </tr>\n",
       "    <tr>\n",
       "      <th>2013-04-29</th>\n",
       "      <td>BTC</td>\n",
       "      <td>134.44</td>\n",
       "      <td>147.49</td>\n",
       "      <td>134.00</td>\n",
       "      <td>144.54</td>\n",
       "      <td>0</td>\n",
       "      <td>1491160000</td>\n",
       "      <td>Bitcoin</td>\n",
       "      <td>1</td>\n",
       "    </tr>\n",
       "    <tr>\n",
       "      <th>2013-04-30</th>\n",
       "      <td>BTC</td>\n",
       "      <td>144.00</td>\n",
       "      <td>146.93</td>\n",
       "      <td>134.05</td>\n",
       "      <td>139.00</td>\n",
       "      <td>0</td>\n",
       "      <td>1597780000</td>\n",
       "      <td>Bitcoin</td>\n",
       "      <td>1</td>\n",
       "    </tr>\n",
       "    <tr>\n",
       "      <th>2013-05-01</th>\n",
       "      <td>BTC</td>\n",
       "      <td>139.00</td>\n",
       "      <td>139.89</td>\n",
       "      <td>107.72</td>\n",
       "      <td>116.99</td>\n",
       "      <td>0</td>\n",
       "      <td>1542820000</td>\n",
       "      <td>Bitcoin</td>\n",
       "      <td>1</td>\n",
       "    </tr>\n",
       "    <tr>\n",
       "      <th>2013-05-02</th>\n",
       "      <td>BTC</td>\n",
       "      <td>116.38</td>\n",
       "      <td>125.60</td>\n",
       "      <td>92.28</td>\n",
       "      <td>105.21</td>\n",
       "      <td>0</td>\n",
       "      <td>1292190000</td>\n",
       "      <td>Bitcoin</td>\n",
       "      <td>1</td>\n",
       "    </tr>\n",
       "    <tr>\n",
       "      <th>2013-05-03</th>\n",
       "      <td>BTC</td>\n",
       "      <td>106.25</td>\n",
       "      <td>108.13</td>\n",
       "      <td>79.10</td>\n",
       "      <td>97.75</td>\n",
       "      <td>0</td>\n",
       "      <td>1180070000</td>\n",
       "      <td>Bitcoin</td>\n",
       "      <td>1</td>\n",
       "    </tr>\n",
       "    <tr>\n",
       "      <th>2013-05-04</th>\n",
       "      <td>BTC</td>\n",
       "      <td>98.10</td>\n",
       "      <td>115.00</td>\n",
       "      <td>92.50</td>\n",
       "      <td>112.50</td>\n",
       "      <td>0</td>\n",
       "      <td>1089890000</td>\n",
       "      <td>Bitcoin</td>\n",
       "      <td>1</td>\n",
       "    </tr>\n",
       "    <tr>\n",
       "      <th>2013-05-05</th>\n",
       "      <td>BTC</td>\n",
       "      <td>112.90</td>\n",
       "      <td>118.80</td>\n",
       "      <td>107.14</td>\n",
       "      <td>115.91</td>\n",
       "      <td>0</td>\n",
       "      <td>1254760000</td>\n",
       "      <td>Bitcoin</td>\n",
       "      <td>1</td>\n",
       "    </tr>\n",
       "    <tr>\n",
       "      <th>2013-05-06</th>\n",
       "      <td>BTC</td>\n",
       "      <td>115.98</td>\n",
       "      <td>124.66</td>\n",
       "      <td>106.64</td>\n",
       "      <td>112.30</td>\n",
       "      <td>0</td>\n",
       "      <td>1289470000</td>\n",
       "      <td>Bitcoin</td>\n",
       "      <td>1</td>\n",
       "    </tr>\n",
       "    <tr>\n",
       "      <th>2013-05-07</th>\n",
       "      <td>BTC</td>\n",
       "      <td>112.25</td>\n",
       "      <td>113.44</td>\n",
       "      <td>97.70</td>\n",
       "      <td>111.50</td>\n",
       "      <td>0</td>\n",
       "      <td>1248470000</td>\n",
       "      <td>Bitcoin</td>\n",
       "      <td>1</td>\n",
       "    </tr>\n",
       "  </tbody>\n",
       "</table>\n",
       "</div>"
      ],
      "text/plain": [
       "           symbol    open    high     low   close  volume      market  \\\n",
       "date                                                                    \n",
       "2013-04-28    BTC  135.30  135.98  132.10  134.21       0  1500520000   \n",
       "2013-04-29    BTC  134.44  147.49  134.00  144.54       0  1491160000   \n",
       "2013-04-30    BTC  144.00  146.93  134.05  139.00       0  1597780000   \n",
       "2013-05-01    BTC  139.00  139.89  107.72  116.99       0  1542820000   \n",
       "2013-05-02    BTC  116.38  125.60   92.28  105.21       0  1292190000   \n",
       "2013-05-03    BTC  106.25  108.13   79.10   97.75       0  1180070000   \n",
       "2013-05-04    BTC   98.10  115.00   92.50  112.50       0  1089890000   \n",
       "2013-05-05    BTC  112.90  118.80  107.14  115.91       0  1254760000   \n",
       "2013-05-06    BTC  115.98  124.66  106.64  112.30       0  1289470000   \n",
       "2013-05-07    BTC  112.25  113.44   97.70  111.50       0  1248470000   \n",
       "\n",
       "               name  ranknow  \n",
       "date                          \n",
       "2013-04-28  Bitcoin        1  \n",
       "2013-04-29  Bitcoin        1  \n",
       "2013-04-30  Bitcoin        1  \n",
       "2013-05-01  Bitcoin        1  \n",
       "2013-05-02  Bitcoin        1  \n",
       "2013-05-03  Bitcoin        1  \n",
       "2013-05-04  Bitcoin        1  \n",
       "2013-05-05  Bitcoin        1  \n",
       "2013-05-06  Bitcoin        1  \n",
       "2013-05-07  Bitcoin        1  "
      ]
     },
     "execution_count": 9,
     "metadata": {},
     "output_type": "execute_result"
    }
   ],
   "source": [
    "#Oluşturulan dataframe in ilk 10 satırına göz atma\n",
    "df.head(10)"
   ]
  },
  {
   "cell_type": "code",
   "execution_count": 10,
   "metadata": {
    "_cell_guid": "7fda2606-22b2-4b41-9b28-4302bc2cd959",
    "_uuid": "91bf47bd388c0ef4a4c4d8ff7baa24e0bfa28067"
   },
   "outputs": [
    {
     "data": {
      "text/html": [
       "<div>\n",
       "<style scoped>\n",
       "    .dataframe tbody tr th:only-of-type {\n",
       "        vertical-align: middle;\n",
       "    }\n",
       "\n",
       "    .dataframe tbody tr th {\n",
       "        vertical-align: top;\n",
       "    }\n",
       "\n",
       "    .dataframe thead th {\n",
       "        text-align: right;\n",
       "    }\n",
       "</style>\n",
       "<table border=\"1\" class=\"dataframe\">\n",
       "  <thead>\n",
       "    <tr style=\"text-align: right;\">\n",
       "      <th></th>\n",
       "      <th>symbol</th>\n",
       "      <th>open</th>\n",
       "      <th>high</th>\n",
       "      <th>low</th>\n",
       "      <th>close</th>\n",
       "      <th>volume</th>\n",
       "      <th>market</th>\n",
       "      <th>name</th>\n",
       "      <th>ranknow</th>\n",
       "    </tr>\n",
       "    <tr>\n",
       "      <th>date</th>\n",
       "      <th></th>\n",
       "      <th></th>\n",
       "      <th></th>\n",
       "      <th></th>\n",
       "      <th></th>\n",
       "      <th></th>\n",
       "      <th></th>\n",
       "      <th></th>\n",
       "      <th></th>\n",
       "    </tr>\n",
       "  </thead>\n",
       "  <tbody>\n",
       "    <tr>\n",
       "      <th>2017-12-18</th>\n",
       "      <td>KBR</td>\n",
       "      <td>0.118618</td>\n",
       "      <td>0.146556</td>\n",
       "      <td>0.113298</td>\n",
       "      <td>0.137504</td>\n",
       "      <td>2849</td>\n",
       "      <td>0</td>\n",
       "      <td>Kubera Coin</td>\n",
       "      <td>1366</td>\n",
       "    </tr>\n",
       "    <tr>\n",
       "      <th>2017-12-13</th>\n",
       "      <td>IGNIS</td>\n",
       "      <td>2.090000</td>\n",
       "      <td>2.320000</td>\n",
       "      <td>1.940000</td>\n",
       "      <td>2.310000</td>\n",
       "      <td>18762</td>\n",
       "      <td>0</td>\n",
       "      <td>Ignis [Futures]</td>\n",
       "      <td>1367</td>\n",
       "    </tr>\n",
       "    <tr>\n",
       "      <th>2017-12-14</th>\n",
       "      <td>IGNIS</td>\n",
       "      <td>2.310000</td>\n",
       "      <td>6.900000</td>\n",
       "      <td>2.180000</td>\n",
       "      <td>2.870000</td>\n",
       "      <td>7427</td>\n",
       "      <td>0</td>\n",
       "      <td>Ignis [Futures]</td>\n",
       "      <td>1367</td>\n",
       "    </tr>\n",
       "    <tr>\n",
       "      <th>2017-12-15</th>\n",
       "      <td>IGNIS</td>\n",
       "      <td>4.230000</td>\n",
       "      <td>5.490000</td>\n",
       "      <td>2.040000</td>\n",
       "      <td>2.450000</td>\n",
       "      <td>1763</td>\n",
       "      <td>0</td>\n",
       "      <td>Ignis [Futures]</td>\n",
       "      <td>1367</td>\n",
       "    </tr>\n",
       "    <tr>\n",
       "      <th>2017-12-16</th>\n",
       "      <td>IGNIS</td>\n",
       "      <td>2.460000</td>\n",
       "      <td>3.590000</td>\n",
       "      <td>2.050000</td>\n",
       "      <td>2.090000</td>\n",
       "      <td>9242</td>\n",
       "      <td>0</td>\n",
       "      <td>Ignis [Futures]</td>\n",
       "      <td>1367</td>\n",
       "    </tr>\n",
       "    <tr>\n",
       "      <th>2017-12-17</th>\n",
       "      <td>IGNIS</td>\n",
       "      <td>2.090000</td>\n",
       "      <td>2.380000</td>\n",
       "      <td>2.090000</td>\n",
       "      <td>2.160000</td>\n",
       "      <td>10272</td>\n",
       "      <td>0</td>\n",
       "      <td>Ignis [Futures]</td>\n",
       "      <td>1367</td>\n",
       "    </tr>\n",
       "    <tr>\n",
       "      <th>2017-12-18</th>\n",
       "      <td>IGNIS</td>\n",
       "      <td>2.160000</td>\n",
       "      <td>2.640000</td>\n",
       "      <td>2.060000</td>\n",
       "      <td>2.540000</td>\n",
       "      <td>3385</td>\n",
       "      <td>0</td>\n",
       "      <td>Ignis [Futures]</td>\n",
       "      <td>1367</td>\n",
       "    </tr>\n",
       "    <tr>\n",
       "      <th>2017-12-17</th>\n",
       "      <td>BTCA</td>\n",
       "      <td>0.012830</td>\n",
       "      <td>0.014488</td>\n",
       "      <td>0.012793</td>\n",
       "      <td>0.014465</td>\n",
       "      <td>209739</td>\n",
       "      <td>0</td>\n",
       "      <td>Bitair</td>\n",
       "      <td>1368</td>\n",
       "    </tr>\n",
       "    <tr>\n",
       "      <th>2017-12-18</th>\n",
       "      <td>BTCA</td>\n",
       "      <td>0.014301</td>\n",
       "      <td>0.017507</td>\n",
       "      <td>0.010392</td>\n",
       "      <td>0.012712</td>\n",
       "      <td>223386</td>\n",
       "      <td>0</td>\n",
       "      <td>Bitair</td>\n",
       "      <td>1368</td>\n",
       "    </tr>\n",
       "    <tr>\n",
       "      <th>2017-12-18</th>\n",
       "      <td>LOC</td>\n",
       "      <td>0.693261</td>\n",
       "      <td>1.090000</td>\n",
       "      <td>0.684387</td>\n",
       "      <td>0.891086</td>\n",
       "      <td>169077</td>\n",
       "      <td>0</td>\n",
       "      <td>LockChain</td>\n",
       "      <td>1369</td>\n",
       "    </tr>\n",
       "  </tbody>\n",
       "</table>\n",
       "</div>"
      ],
      "text/plain": [
       "           symbol      open      high       low     close  volume  market  \\\n",
       "date                                                                        \n",
       "2017-12-18    KBR  0.118618  0.146556  0.113298  0.137504    2849       0   \n",
       "2017-12-13  IGNIS  2.090000  2.320000  1.940000  2.310000   18762       0   \n",
       "2017-12-14  IGNIS  2.310000  6.900000  2.180000  2.870000    7427       0   \n",
       "2017-12-15  IGNIS  4.230000  5.490000  2.040000  2.450000    1763       0   \n",
       "2017-12-16  IGNIS  2.460000  3.590000  2.050000  2.090000    9242       0   \n",
       "2017-12-17  IGNIS  2.090000  2.380000  2.090000  2.160000   10272       0   \n",
       "2017-12-18  IGNIS  2.160000  2.640000  2.060000  2.540000    3385       0   \n",
       "2017-12-17   BTCA  0.012830  0.014488  0.012793  0.014465  209739       0   \n",
       "2017-12-18   BTCA  0.014301  0.017507  0.010392  0.012712  223386       0   \n",
       "2017-12-18    LOC  0.693261  1.090000  0.684387  0.891086  169077       0   \n",
       "\n",
       "                       name  ranknow  \n",
       "date                                  \n",
       "2017-12-18      Kubera Coin     1366  \n",
       "2017-12-13  Ignis [Futures]     1367  \n",
       "2017-12-14  Ignis [Futures]     1367  \n",
       "2017-12-15  Ignis [Futures]     1367  \n",
       "2017-12-16  Ignis [Futures]     1367  \n",
       "2017-12-17  Ignis [Futures]     1367  \n",
       "2017-12-18  Ignis [Futures]     1367  \n",
       "2017-12-17           Bitair     1368  \n",
       "2017-12-18           Bitair     1368  \n",
       "2017-12-18        LockChain     1369  "
      ]
     },
     "execution_count": 10,
     "metadata": {},
     "output_type": "execute_result"
    }
   ],
   "source": [
    "#Son 10 satırına göz atma\n",
    "df.tail(10)"
   ]
  },
  {
   "cell_type": "markdown",
   "metadata": {
    "_cell_guid": "509a7e63-de8e-401f-b9eb-f295b4cc14e7",
    "_uuid": "f991f4e79df9a802f7c58da9ecc4f4f06f7c7e2c"
   },
   "source": [
    "**Bu verisetinde birden çok kripto para çeşidi mevcut sonraki adımlarda sadece bitcoin verisini içerecek şekilde ayıklama yapılacak**"
   ]
  },
  {
   "cell_type": "code",
   "execution_count": 11,
   "metadata": {
    "_cell_guid": "cec3f22b-7b0d-4e1c-a1fe-1f2833a8608c",
    "_uuid": "09fdd967bb666a8d28c98267c04c3e5b80bcc984"
   },
   "outputs": [],
   "source": [
    "btc=df[df['symbol']=='BTC'].copy()#df['symbol']=='BTC' yani symbol kolonunun BTC ye eşit olduğu kısımları belirtiyoruz. \n",
    "btc.drop(['volume','symbol','name','ranknow','market'],axis=1,inplace=True)#ismi belirtilen kolonları dropluyoruz.Droplanan kolonlar gereksiz"
   ]
  },
  {
   "cell_type": "code",
   "execution_count": 12,
   "metadata": {
    "_cell_guid": "89b1e66b-ab4a-4d5a-87c0-e023ca642c78",
    "_uuid": "04099b6baa527d2761ca228c18741e7b0948b567"
   },
   "outputs": [
    {
     "data": {
      "text/plain": [
       "open     False\n",
       "high     False\n",
       "low      False\n",
       "close    False\n",
       "dtype: bool"
      ]
     },
     "execution_count": 12,
     "metadata": {},
     "output_type": "execute_result"
    }
   ],
   "source": [
    "btc.isnull().any()#NA value var mı kontrol için. False NA value yok demek"
   ]
  },
  {
   "cell_type": "code",
   "execution_count": 13,
   "metadata": {
    "_cell_guid": "6c8d6f96-f16f-4988-b73a-f1a39abd673d",
    "_uuid": "8ca4ed6bfc3d044f3a1dca26d9063936805a9495"
   },
   "outputs": [
    {
     "data": {
      "text/plain": [
       "(1696, 4)"
      ]
     },
     "execution_count": 13,
     "metadata": {},
     "output_type": "execute_result"
    }
   ],
   "source": [
    "btc.shape #Yeni datamızda kaç satır ve kaç kolon var ona bakıyoruz"
   ]
  },
  {
   "cell_type": "code",
   "execution_count": 14,
   "metadata": {},
   "outputs": [
    {
     "data": {
      "text/html": [
       "<div>\n",
       "<style scoped>\n",
       "    .dataframe tbody tr th:only-of-type {\n",
       "        vertical-align: middle;\n",
       "    }\n",
       "\n",
       "    .dataframe tbody tr th {\n",
       "        vertical-align: top;\n",
       "    }\n",
       "\n",
       "    .dataframe thead th {\n",
       "        text-align: right;\n",
       "    }\n",
       "</style>\n",
       "<table border=\"1\" class=\"dataframe\">\n",
       "  <thead>\n",
       "    <tr style=\"text-align: right;\">\n",
       "      <th></th>\n",
       "      <th>open</th>\n",
       "      <th>high</th>\n",
       "      <th>low</th>\n",
       "      <th>close</th>\n",
       "    </tr>\n",
       "    <tr>\n",
       "      <th>date</th>\n",
       "      <th></th>\n",
       "      <th></th>\n",
       "      <th></th>\n",
       "      <th></th>\n",
       "    </tr>\n",
       "  </thead>\n",
       "  <tbody>\n",
       "    <tr>\n",
       "      <th>2013-04-28</th>\n",
       "      <td>135.30</td>\n",
       "      <td>135.98</td>\n",
       "      <td>132.10</td>\n",
       "      <td>134.21</td>\n",
       "    </tr>\n",
       "    <tr>\n",
       "      <th>2013-04-29</th>\n",
       "      <td>134.44</td>\n",
       "      <td>147.49</td>\n",
       "      <td>134.00</td>\n",
       "      <td>144.54</td>\n",
       "    </tr>\n",
       "    <tr>\n",
       "      <th>2013-04-30</th>\n",
       "      <td>144.00</td>\n",
       "      <td>146.93</td>\n",
       "      <td>134.05</td>\n",
       "      <td>139.00</td>\n",
       "    </tr>\n",
       "    <tr>\n",
       "      <th>2013-05-01</th>\n",
       "      <td>139.00</td>\n",
       "      <td>139.89</td>\n",
       "      <td>107.72</td>\n",
       "      <td>116.99</td>\n",
       "    </tr>\n",
       "    <tr>\n",
       "      <th>2013-05-02</th>\n",
       "      <td>116.38</td>\n",
       "      <td>125.60</td>\n",
       "      <td>92.28</td>\n",
       "      <td>105.21</td>\n",
       "    </tr>\n",
       "  </tbody>\n",
       "</table>\n",
       "</div>"
      ],
      "text/plain": [
       "              open    high     low   close\n",
       "date                                      \n",
       "2013-04-28  135.30  135.98  132.10  134.21\n",
       "2013-04-29  134.44  147.49  134.00  144.54\n",
       "2013-04-30  144.00  146.93  134.05  139.00\n",
       "2013-05-01  139.00  139.89  107.72  116.99\n",
       "2013-05-02  116.38  125.60   92.28  105.21"
      ]
     },
     "execution_count": 14,
     "metadata": {},
     "output_type": "execute_result"
    }
   ],
   "source": [
    "btc.head()#data hangi tarihten başlıyor ona bakıyoruz"
   ]
  },
  {
   "cell_type": "code",
   "execution_count": 15,
   "metadata": {
    "_cell_guid": "aec6c18e-82ec-4e18-a324-73562f5f1f25",
    "_uuid": "324c844e5f3ff372e9611e86c25ecea90919fb1f"
   },
   "outputs": [
    {
     "data": {
      "text/html": [
       "<div>\n",
       "<style scoped>\n",
       "    .dataframe tbody tr th:only-of-type {\n",
       "        vertical-align: middle;\n",
       "    }\n",
       "\n",
       "    .dataframe tbody tr th {\n",
       "        vertical-align: top;\n",
       "    }\n",
       "\n",
       "    .dataframe thead th {\n",
       "        text-align: right;\n",
       "    }\n",
       "</style>\n",
       "<table border=\"1\" class=\"dataframe\">\n",
       "  <thead>\n",
       "    <tr style=\"text-align: right;\">\n",
       "      <th></th>\n",
       "      <th>open</th>\n",
       "      <th>high</th>\n",
       "      <th>low</th>\n",
       "      <th>close</th>\n",
       "    </tr>\n",
       "    <tr>\n",
       "      <th>date</th>\n",
       "      <th></th>\n",
       "      <th></th>\n",
       "      <th></th>\n",
       "      <th></th>\n",
       "    </tr>\n",
       "  </thead>\n",
       "  <tbody>\n",
       "    <tr>\n",
       "      <th>2017-12-14</th>\n",
       "      <td>16384.6</td>\n",
       "      <td>17085.8</td>\n",
       "      <td>16185.9</td>\n",
       "      <td>16564.0</td>\n",
       "    </tr>\n",
       "    <tr>\n",
       "      <th>2017-12-15</th>\n",
       "      <td>16601.3</td>\n",
       "      <td>18154.1</td>\n",
       "      <td>16601.3</td>\n",
       "      <td>17706.9</td>\n",
       "    </tr>\n",
       "    <tr>\n",
       "      <th>2017-12-16</th>\n",
       "      <td>17760.3</td>\n",
       "      <td>19716.7</td>\n",
       "      <td>17515.3</td>\n",
       "      <td>19497.4</td>\n",
       "    </tr>\n",
       "    <tr>\n",
       "      <th>2017-12-17</th>\n",
       "      <td>19475.8</td>\n",
       "      <td>20089.0</td>\n",
       "      <td>18974.1</td>\n",
       "      <td>19140.8</td>\n",
       "    </tr>\n",
       "    <tr>\n",
       "      <th>2017-12-18</th>\n",
       "      <td>19106.4</td>\n",
       "      <td>19371.0</td>\n",
       "      <td>18355.9</td>\n",
       "      <td>19114.2</td>\n",
       "    </tr>\n",
       "  </tbody>\n",
       "</table>\n",
       "</div>"
      ],
      "text/plain": [
       "               open     high      low    close\n",
       "date                                          \n",
       "2017-12-14  16384.6  17085.8  16185.9  16564.0\n",
       "2017-12-15  16601.3  18154.1  16601.3  17706.9\n",
       "2017-12-16  17760.3  19716.7  17515.3  19497.4\n",
       "2017-12-17  19475.8  20089.0  18974.1  19140.8\n",
       "2017-12-18  19106.4  19371.0  18355.9  19114.2"
      ]
     },
     "execution_count": 15,
     "metadata": {},
     "output_type": "execute_result"
    }
   ],
   "source": [
    "btc.tail()#Hangi tarihe kadar gidiyor ona bakıyoruz. Çıkan sonuçta 2017ye gittiği görülüyor.  Yani 2013-2017 arası bitcoin verisi var."
   ]
  },
  {
   "cell_type": "code",
   "execution_count": 16,
   "metadata": {
    "_cell_guid": "0b91709c-c457-4399-8138-3f9428a18658",
    "_uuid": "345aa1e6af964b65157c9569bfbdc1b8f1f0dc6a"
   },
   "outputs": [
    {
     "data": {
      "text/plain": [
       "<matplotlib.legend.Legend at 0x200bc521090>"
      ]
     },
     "execution_count": 16,
     "metadata": {},
     "output_type": "execute_result"
    },
    {
     "data": {
      "image/png": "[encoded data removed]",
      "text/plain": [
       "<Figure size 864x432 with 1 Axes>"
      ]
     },
     "metadata": {},
     "output_type": "display_data"
    }
   ],
   "source": [
    "#Seaborn kütüphanesi kullanarak yıllar arasında bitcoinin davranış grafiğini çizdiriyoruz.\n",
    "sns.set()\n",
    "sns.set_style('whitegrid')#beyaz ve kareli stil seçimi yapılıyor\n",
    "btc['close'].plot(figsize=(12,6),label='Close')#Grafiğin size ı 12x6 şeklinde ayarlanıyor.\n",
    "btc['close'].rolling(window=30).mean().plot(label='30 Day Avg')\n",
    "#Grafite 30 Day Avg belirtilen çizginin anlamı 30 günlük veri ortalaması. Her 30 günün ortalaması grafiğe aktarılıyor ve yeni bir çizgi çiziliyor.\n",
    "plt.legend()"
   ]
  },
  {
   "cell_type": "code",
   "execution_count": 17,
   "metadata": {
    "_cell_guid": "c70ff999-af5b-41c8-b43f-2afab225a781",
    "_uuid": "376005bdb3af2e0772679928d05637e8835d3cc4"
   },
   "outputs": [],
   "source": [
    "#bütün değerlerin ortalaması bir değer ekleniyor. sebebi modelin verimini arttırmak. ohlc_average kolonu olarak veriye eklendi.\n",
    "btc['ohlc_average'] = (btc['open'].values + btc['high'].values + btc['low'].values + btc['close'].values) / 4"
   ]
  },
  {
   "cell_type": "code",
   "execution_count": 18,
   "metadata": {
    "_cell_guid": "ae00b84c-b21f-4f18-a79f-cf9de398f318",
    "_uuid": "3b7d4a2b0350cc4fe9a3a0c9696b673e84febf7d"
   },
   "outputs": [
    {
     "data": {
      "text/html": [
       "<div>\n",
       "<style scoped>\n",
       "    .dataframe tbody tr th:only-of-type {\n",
       "        vertical-align: middle;\n",
       "    }\n",
       "\n",
       "    .dataframe tbody tr th {\n",
       "        vertical-align: top;\n",
       "    }\n",
       "\n",
       "    .dataframe thead th {\n",
       "        text-align: right;\n",
       "    }\n",
       "</style>\n",
       "<table border=\"1\" class=\"dataframe\">\n",
       "  <thead>\n",
       "    <tr style=\"text-align: right;\">\n",
       "      <th></th>\n",
       "      <th>open</th>\n",
       "      <th>high</th>\n",
       "      <th>low</th>\n",
       "      <th>close</th>\n",
       "      <th>ohlc_average</th>\n",
       "    </tr>\n",
       "    <tr>\n",
       "      <th>date</th>\n",
       "      <th></th>\n",
       "      <th></th>\n",
       "      <th></th>\n",
       "      <th></th>\n",
       "      <th></th>\n",
       "    </tr>\n",
       "  </thead>\n",
       "  <tbody>\n",
       "    <tr>\n",
       "      <th>2013-04-28</th>\n",
       "      <td>135.30</td>\n",
       "      <td>135.98</td>\n",
       "      <td>132.10</td>\n",
       "      <td>134.21</td>\n",
       "      <td>134.3975</td>\n",
       "    </tr>\n",
       "    <tr>\n",
       "      <th>2013-04-29</th>\n",
       "      <td>134.44</td>\n",
       "      <td>147.49</td>\n",
       "      <td>134.00</td>\n",
       "      <td>144.54</td>\n",
       "      <td>140.1175</td>\n",
       "    </tr>\n",
       "    <tr>\n",
       "      <th>2013-04-30</th>\n",
       "      <td>144.00</td>\n",
       "      <td>146.93</td>\n",
       "      <td>134.05</td>\n",
       "      <td>139.00</td>\n",
       "      <td>140.9950</td>\n",
       "    </tr>\n",
       "    <tr>\n",
       "      <th>2013-05-01</th>\n",
       "      <td>139.00</td>\n",
       "      <td>139.89</td>\n",
       "      <td>107.72</td>\n",
       "      <td>116.99</td>\n",
       "      <td>125.9000</td>\n",
       "    </tr>\n",
       "    <tr>\n",
       "      <th>2013-05-02</th>\n",
       "      <td>116.38</td>\n",
       "      <td>125.60</td>\n",
       "      <td>92.28</td>\n",
       "      <td>105.21</td>\n",
       "      <td>109.8675</td>\n",
       "    </tr>\n",
       "  </tbody>\n",
       "</table>\n",
       "</div>"
      ],
      "text/plain": [
       "              open    high     low   close  ohlc_average\n",
       "date                                                    \n",
       "2013-04-28  135.30  135.98  132.10  134.21      134.3975\n",
       "2013-04-29  134.44  147.49  134.00  144.54      140.1175\n",
       "2013-04-30  144.00  146.93  134.05  139.00      140.9950\n",
       "2013-05-01  139.00  139.89  107.72  116.99      125.9000\n",
       "2013-05-02  116.38  125.60   92.28  105.21      109.8675"
      ]
     },
     "execution_count": 18,
     "metadata": {},
     "output_type": "execute_result"
    }
   ],
   "source": [
    "btc.head()"
   ]
  },
  {
   "cell_type": "code",
   "execution_count": 19,
   "metadata": {
    "_cell_guid": "1def5ef6-1cb2-4339-9973-080258c3cc34",
    "_uuid": "52817357091aabe63e8f3308f991b7318a6d75c8",
    "scrolled": true
   },
   "outputs": [],
   "source": [
    "btc['Price_After_Month']=btc['close'].shift(-30) #Aylık bitcoin verisi tahmini yapılacak bu sebeple price_after_month kolonu oluşturuluyor.\n",
    "#Bu kolon tahmin edilecek"
   ]
  },
  {
   "cell_type": "code",
   "execution_count": 20,
   "metadata": {
    "_cell_guid": "829ec2fd-84a7-439c-8b15-5a9a85ee412e",
    "_uuid": "12464e55d2494df06a733772fa1996067b99f8c6"
   },
   "outputs": [
    {
     "data": {
      "text/html": [
       "<div>\n",
       "<style scoped>\n",
       "    .dataframe tbody tr th:only-of-type {\n",
       "        vertical-align: middle;\n",
       "    }\n",
       "\n",
       "    .dataframe tbody tr th {\n",
       "        vertical-align: top;\n",
       "    }\n",
       "\n",
       "    .dataframe thead th {\n",
       "        text-align: right;\n",
       "    }\n",
       "</style>\n",
       "<table border=\"1\" class=\"dataframe\">\n",
       "  <thead>\n",
       "    <tr style=\"text-align: right;\">\n",
       "      <th></th>\n",
       "      <th>open</th>\n",
       "      <th>high</th>\n",
       "      <th>low</th>\n",
       "      <th>close</th>\n",
       "      <th>ohlc_average</th>\n",
       "      <th>Price_After_Month</th>\n",
       "    </tr>\n",
       "    <tr>\n",
       "      <th>date</th>\n",
       "      <th></th>\n",
       "      <th></th>\n",
       "      <th></th>\n",
       "      <th></th>\n",
       "      <th></th>\n",
       "      <th></th>\n",
       "    </tr>\n",
       "  </thead>\n",
       "  <tbody>\n",
       "    <tr>\n",
       "      <th>2017-12-14</th>\n",
       "      <td>16384.6</td>\n",
       "      <td>17085.8</td>\n",
       "      <td>16185.9</td>\n",
       "      <td>16564.0</td>\n",
       "      <td>16555.075</td>\n",
       "      <td>NaN</td>\n",
       "    </tr>\n",
       "    <tr>\n",
       "      <th>2017-12-15</th>\n",
       "      <td>16601.3</td>\n",
       "      <td>18154.1</td>\n",
       "      <td>16601.3</td>\n",
       "      <td>17706.9</td>\n",
       "      <td>17265.900</td>\n",
       "      <td>NaN</td>\n",
       "    </tr>\n",
       "    <tr>\n",
       "      <th>2017-12-16</th>\n",
       "      <td>17760.3</td>\n",
       "      <td>19716.7</td>\n",
       "      <td>17515.3</td>\n",
       "      <td>19497.4</td>\n",
       "      <td>18622.425</td>\n",
       "      <td>NaN</td>\n",
       "    </tr>\n",
       "    <tr>\n",
       "      <th>2017-12-17</th>\n",
       "      <td>19475.8</td>\n",
       "      <td>20089.0</td>\n",
       "      <td>18974.1</td>\n",
       "      <td>19140.8</td>\n",
       "      <td>19419.925</td>\n",
       "      <td>NaN</td>\n",
       "    </tr>\n",
       "    <tr>\n",
       "      <th>2017-12-18</th>\n",
       "      <td>19106.4</td>\n",
       "      <td>19371.0</td>\n",
       "      <td>18355.9</td>\n",
       "      <td>19114.2</td>\n",
       "      <td>18986.875</td>\n",
       "      <td>NaN</td>\n",
       "    </tr>\n",
       "  </tbody>\n",
       "</table>\n",
       "</div>"
      ],
      "text/plain": [
       "               open     high      low    close  ohlc_average  \\\n",
       "date                                                           \n",
       "2017-12-14  16384.6  17085.8  16185.9  16564.0     16555.075   \n",
       "2017-12-15  16601.3  18154.1  16601.3  17706.9     17265.900   \n",
       "2017-12-16  17760.3  19716.7  17515.3  19497.4     18622.425   \n",
       "2017-12-17  19475.8  20089.0  18974.1  19140.8     19419.925   \n",
       "2017-12-18  19106.4  19371.0  18355.9  19114.2     18986.875   \n",
       "\n",
       "            Price_After_Month  \n",
       "date                           \n",
       "2017-12-14                NaN  \n",
       "2017-12-15                NaN  \n",
       "2017-12-16                NaN  \n",
       "2017-12-17                NaN  \n",
       "2017-12-18                NaN  "
      ]
     },
     "execution_count": 20,
     "metadata": {},
     "output_type": "execute_result"
    }
   ],
   "source": [
    "btc.tail()"
   ]
  },
  {
   "cell_type": "code",
   "execution_count": 21,
   "metadata": {
    "_cell_guid": "c3ed8e77-800a-4e77-99be-afe2c7436ca8",
    "_uuid": "f9f9ae9fe42be0fa32047f8ba737c506624d70bb"
   },
   "outputs": [],
   "source": [
    "#X ve y değerleri hazırlanıyor.\n",
    "from sklearn import preprocessing\n",
    "btc.dropna(inplace=True)#NA değerler droplanıyor\n",
    "X=btc.drop('Price_After_Month',axis=1).copy()\n",
    "X=preprocessing.scale(X)\n",
    "y=btc['Price_After_Month']"
   ]
  },
  {
   "cell_type": "code",
   "execution_count": 22,
   "metadata": {
    "_cell_guid": "f2591e11-63fc-4a41-9e50-71438182aea9",
    "_uuid": "92429485c49c7086e13f551e253875d67c49f480",
    "scrolled": true
   },
   "outputs": [],
   "source": [
    "from sklearn.model_selection import train_test_split\n",
    "#train ve test olarak dataset in ayrılması\n",
    "X_train,X_test,y_train,y_test=train_test_split(X,y,test_size=0.3,random_state=101)#%30 test %70 train"
   ]
  },
  {
   "cell_type": "code",
   "execution_count": 23,
   "metadata": {
    "_cell_guid": "1536b2e8-2e94-4064-9284-66eb286a5340",
    "_uuid": "cda8fd4358f3edb1dd189175d3ad2cea69552201"
   },
   "outputs": [
    {
     "name": "stdout",
     "output_type": "stream",
     "text": [
      "Accuracy is: 91.7575 %\n"
     ]
    }
   ],
   "source": [
    "#Regresyon modeli kullanılıyor RandomForestRegressor\n",
    "from sklearn.ensemble import RandomForestRegressor\n",
    "reg=RandomForestRegressor(n_estimators=200,random_state=101)#Modelin oluşturulması\n",
    "reg.fit(X_train,y_train)#Train dataları modele uygulanıyor\n",
    "accuracy=reg.score(X_test,y_test)#Modelin accuracy si\n",
    "accuracy=accuracy*100\n",
    "accuracy = float(\"{0:.4f}\".format(accuracy))\n",
    "print('Accuracy is:',accuracy,'%')"
   ]
  },
  {
   "cell_type": "code",
   "execution_count": 24,
   "metadata": {
    "_cell_guid": "bfdf5b9c-ae37-48ab-9ea0-581953db7230",
    "_uuid": "553fec1cb92aaeb77aba2bff244554f63926088c"
   },
   "outputs": [
    {
     "name": "stdout",
     "output_type": "stream",
     "text": [
      "The prediction is: 607.1487500000002 But the real value is: 607.15\n"
     ]
    }
   ],
   "source": [
    "preds = reg.predict(X_test)#Test verisine göre tahminde bulunulması\n",
    "print(\"The prediction is:\",preds[1],\"But the real value is:\" ,y_test[1]) #test verisinin tahminiyle gerçek değerin kıyası"
   ]
  },
  {
   "cell_type": "code",
   "execution_count": 30,
   "metadata": {},
   "outputs": [
    {
     "data": {
      "text/plain": [
       "<matplotlib.collections.PathCollection at 0x200bdb90970>"
      ]
     },
     "execution_count": 30,
     "metadata": {},
     "output_type": "execute_result"
    },
    {
     "data": {
      "image/png": "[encoded data removed]",
      "text/plain": [
       "<Figure size 432x288 with 1 Axes>"
      ]
     },
     "metadata": {},
     "output_type": "display_data"
    }
   ],
   "source": [
    "plt.scatter(y_test,preds)\n",
    "plt.xlabel(\"\")"
   ]
  }
 ],
 "metadata": {
  "kernelspec": {
   "display_name": "Python 3 (ipykernel)",
   "language": "python",
   "name": "python3"
  },
  "language_info": {
   "codemirror_mode": {
    "name": "ipython",
    "version": 3
   },
   "file_extension": ".py",
   "mimetype": "text/x-python",
   "name": "python",
   "nbconvert_exporter": "python",
   "pygments_lexer": "ipython3",
   "version": "3.10.4"
  }
 },
 "nbformat": 4,
 "nbformat_minor": 1
}
