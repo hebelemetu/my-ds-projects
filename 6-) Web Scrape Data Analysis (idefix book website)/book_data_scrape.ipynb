{
 "cells": [
  {
   "cell_type": "code",
   "execution_count": 2,
   "metadata": {},
   "outputs": [],
   "source": [
    "from bs4 import BeautifulSoup\n",
    "import matplotlib.pyplot as plt\n",
    "import numpy as np\n",
    "import pandas as pd\n",
    "import time\n",
    "import re\n",
    "from selenium import webdriver\n",
    "from selenium.webdriver.chrome.options import Options\n",
    "from sklearn.preprocessing import LabelEncoder\n",
    "from sklearn.model_selection import train_test_split\n",
    "from sklearn.neighbors import KNeighborsClassifier"
   ]
  },
  {
   "cell_type": "code",
   "execution_count": 3,
   "metadata": {},
   "outputs": [],
   "source": [
    "chrome_options = Options()\n",
    "chrome_options.add_argument(\"--headless\")\n",
    "chrome_options.add_argument('--ignore-certificate-errors')\n",
    "chrome_options.add_argument('--incognito')\n",
    "driver = webdriver.Chrome(options=chrome_options)"
   ]
  },
  {
   "cell_type": "code",
   "execution_count": 4,
   "metadata": {},
   "outputs": [],
   "source": [
    "book_shelves = []\n",
    "for i in range(1,69):\n",
    "    book_shelf = driver.get(f\"https://www.idefix.com/kategori/Kitap/Bilim/grupno=00052?Page={i}\")\n",
    "    html_content = driver.page_source\n",
    "    book_shelves.append(html_content)\n",
    "    time.sleep(0.5)"
   ]
  },
  {
   "cell_type": "code",
   "execution_count": 5,
   "metadata": {},
   "outputs": [],
   "source": [
    "book_links = []\n",
    "for page in book_shelves:\n",
    "    soup = BeautifulSoup(page, \"html.parser\")\n",
    "    links = soup.find_all('div', attrs={\"class\": \"product-info\"})\n",
    "    for link in links:\n",
    "        book_links.append(link.find_all('div', attrs={\"class\": \"box-title\"})[0].a.get('href'))"
   ]
  },
  {
   "cell_type": "code",
   "execution_count": 6,
   "metadata": {},
   "outputs": [],
   "source": [
    "book_pages = []\n",
    "for link in book_links:\n",
    "    book_page = driver.get(f\"https://www.idefix.com/{link}\")\n",
    "    html_content = driver.page_source\n",
    "    book_pages.append(html_content)\n",
    "    time.sleep(0.05)"
   ]
  },
  {
   "cell_type": "code",
   "execution_count": 8,
   "metadata": {
    "scrolled": false
   },
   "outputs": [],
   "source": [
    "name_list = []\n",
    "author_list = []\n",
    "price_list = []\n",
    "number_of_reviwer_list = []\n",
    "rate_list = []\n",
    "publication_year_list = []\n",
    "number_of_page_list = []\n",
    "\n",
    "for i in range(0,len(book_pages)):\n",
    "    html_content = book_pages[i]\n",
    "    soup = BeautifulSoup(html_content, \"html.parser\")\n",
    "    try:\n",
    "        name = soup.find_all('a', attrs={\"class\": \"bold\"})[0].text\n",
    "    except AttributeError:\n",
    "        name = \"N/A\"\n",
    "    try:\n",
    "        author = soup.find('div', attrs={\"class\": \"author\"}).find('a').text\n",
    "    except AttributeError:\n",
    "        author = \"N/A\"\n",
    "    try:\n",
    "        price = float(format(float(soup.find('div', attrs={\"id\": \"salePrice\"}).text.split(\"TL\")[0].replace(',', ''))/ 100, '.02f'))\n",
    "    except AttributeError:\n",
    "        price = 0\n",
    "    except IndexError:\n",
    "        price = 0\n",
    "    try:\n",
    "        number_of_reviwers = soup.find('div', attrs={\"class\": \"review-container\"}).find(\"span\").text.split(\" \")[-2]\n",
    "    except AttributeError:\n",
    "        number_of_reviwers = \"\"\n",
    "    try:\n",
    "        rate = soup.find('div', attrs={\"class\": \"review-container\"}).find(\"span\").find_next().text.strip()\n",
    "        if \",\" in rate:\n",
    "            rate = rate.replace(',', '.')\n",
    "            rate = float(rate)\n",
    "    except AttributeError:\n",
    "        rate = \"\"\n",
    "    try:\n",
    "        publication_year =  soup.find(\"span\", text=re.compile(\"İlk Baskı Yılı:\")).find_next().get_text(strip=True)\n",
    "    except AttributeError:\n",
    "        publication_year = \"\"\n",
    "    try:\n",
    "        number_of_pages =  soup.find(\"span\", text=re.compile(\"Sayfa Sayısı:\")).find_next().get_text(strip=True)\n",
    "    except AttributeError:\n",
    "        number_of_pages = \"\"\n",
    "    name_list.append(name)\n",
    "    author_list.append(author)\n",
    "    price_list.append(price)\n",
    "    number_of_reviwer_list.append(number_of_reviwers)\n",
    "    rate_list.append(rate)\n",
    "    publication_year_list.append(publication_year)\n",
    "    number_of_page_list.append(number_of_pages)"
   ]
  },
  {
   "cell_type": "code",
   "execution_count": 9,
   "metadata": {},
   "outputs": [],
   "source": [
    "book_dictionary = {\"name\":name_list,\n",
    "             \"author\":author_list,\n",
    "             \"price\":price_list,\n",
    "             \"number_of_review\":number_of_reviwer_list,\n",
    "             \"rate\":rate_list,\n",
    "             \"publication_year\":publication_year_list,\n",
    "             \"number_of_page\":number_of_page_list}"
   ]
  },
  {
   "cell_type": "code",
   "execution_count": 10,
   "metadata": {},
   "outputs": [],
   "source": [
    "import json\n",
    "books_json = json.dumps(book_dictionary)\n",
    "with open(\"book_list.json\", \"w\") as outfile:\n",
    "    outfile.write(books_json)"
   ]
  },
  {
   "cell_type": "code",
   "execution_count": 11,
   "metadata": {},
   "outputs": [],
   "source": [
    "json_file = open ('book_list.json', \"r\")\n",
    "file_data = json.loads(json_file.read())\n",
    "json_file.close()"
   ]
  },
  {
   "cell_type": "code",
   "execution_count": 12,
   "metadata": {},
   "outputs": [],
   "source": [
    "book_df = pd.DataFrame()"
   ]
  },
  {
   "cell_type": "code",
   "execution_count": 14,
   "metadata": {},
   "outputs": [],
   "source": [
    "book_df[\"name\"] = file_data[\"name\"]\n",
    "book_df[\"author\"] = file_data[\"author\"]\n",
    "book_df[\"price\"] = file_data[\"price\"]\n",
    "book_df[\"number_of_review\"] = file_data[\"number_of_review\"]\n",
    "book_df[\"rate\"] = file_data[\"rate\"]\n",
    "book_df[\"publication_year\"] = file_data[\"publication_year\"]\n",
    "book_df[\"number_of_page\"] = file_data[\"number_of_page\"]"
   ]
  },
  {
   "cell_type": "code",
   "execution_count": 15,
   "metadata": {},
   "outputs": [
    {
     "data": {
      "text/html": [
       "<div>\n",
       "<style scoped>\n",
       "    .dataframe tbody tr th:only-of-type {\n",
       "        vertical-align: middle;\n",
       "    }\n",
       "\n",
       "    .dataframe tbody tr th {\n",
       "        vertical-align: top;\n",
       "    }\n",
       "\n",
       "    .dataframe thead th {\n",
       "        text-align: right;\n",
       "    }\n",
       "</style>\n",
       "<table border=\"1\" class=\"dataframe\">\n",
       "  <thead>\n",
       "    <tr style=\"text-align: right;\">\n",
       "      <th></th>\n",
       "      <th>name</th>\n",
       "      <th>author</th>\n",
       "      <th>price</th>\n",
       "      <th>number_of_review</th>\n",
       "      <th>rate</th>\n",
       "      <th>publication_year</th>\n",
       "      <th>number_of_page</th>\n",
       "    </tr>\n",
       "  </thead>\n",
       "  <tbody>\n",
       "    <tr>\n",
       "      <th>0</th>\n",
       "      <td>Tehlikeli Tırmanış</td>\n",
       "      <td>Hakan Bulgurlu</td>\n",
       "      <td>41.28</td>\n",
       "      <td>1</td>\n",
       "      <td>4</td>\n",
       "      <td>2021</td>\n",
       "      <td>240</td>\n",
       "    </tr>\n",
       "    <tr>\n",
       "      <th>1</th>\n",
       "      <td>Ağaçların Gizli Yaşamı</td>\n",
       "      <td>Peter Wohlleben</td>\n",
       "      <td>31.85</td>\n",
       "      <td>16</td>\n",
       "      <td>4</td>\n",
       "      <td>2018</td>\n",
       "      <td>247</td>\n",
       "    </tr>\n",
       "    <tr>\n",
       "      <th>2</th>\n",
       "      <td>Beyinde Ararken Bağırsakta Buldum</td>\n",
       "      <td>Serkan Karaismailoğlu</td>\n",
       "      <td>27.30</td>\n",
       "      <td>78</td>\n",
       "      <td>3.5</td>\n",
       "      <td>2017</td>\n",
       "      <td></td>\n",
       "    </tr>\n",
       "    <tr>\n",
       "      <th>3</th>\n",
       "      <td>Yeni Dünyanın Cesur İnsanı</td>\n",
       "      <td>Sinan Canan</td>\n",
       "      <td>34.00</td>\n",
       "      <td>0</td>\n",
       "      <td>0</td>\n",
       "      <td>2021</td>\n",
       "      <td>176</td>\n",
       "    </tr>\n",
       "    <tr>\n",
       "      <th>4</th>\n",
       "      <td>Yeni Bilim: Bağlantısallık - Yeni Kültür: Yaşa...</td>\n",
       "      <td>Türker Kılıç</td>\n",
       "      <td>20.80</td>\n",
       "      <td>10</td>\n",
       "      <td>3.5</td>\n",
       "      <td>2021</td>\n",
       "      <td>192</td>\n",
       "    </tr>\n",
       "  </tbody>\n",
       "</table>\n",
       "</div>"
      ],
      "text/plain": [
       "                                                name                 author  \\\n",
       "0                                 Tehlikeli Tırmanış         Hakan Bulgurlu   \n",
       "1                             Ağaçların Gizli Yaşamı        Peter Wohlleben   \n",
       "2                  Beyinde Ararken Bağırsakta Buldum  Serkan Karaismailoğlu   \n",
       "3                         Yeni Dünyanın Cesur İnsanı            Sinan Canan   \n",
       "4  Yeni Bilim: Bağlantısallık - Yeni Kültür: Yaşa...           Türker Kılıç   \n",
       "\n",
       "   price number_of_review rate publication_year number_of_page  \n",
       "0  41.28                1    4             2021            240  \n",
       "1  31.85               16    4             2018            247  \n",
       "2  27.30               78  3.5             2017                 \n",
       "3  34.00                0    0             2021            176  \n",
       "4  20.80               10  3.5             2021            192  "
      ]
     },
     "execution_count": 15,
     "metadata": {},
     "output_type": "execute_result"
    }
   ],
   "source": [
    "book_df.head()"
   ]
  },
  {
   "cell_type": "code",
   "execution_count": 16,
   "metadata": {},
   "outputs": [
    {
     "data": {
      "text/html": [
       "<div>\n",
       "<style scoped>\n",
       "    .dataframe tbody tr th:only-of-type {\n",
       "        vertical-align: middle;\n",
       "    }\n",
       "\n",
       "    .dataframe tbody tr th {\n",
       "        vertical-align: top;\n",
       "    }\n",
       "\n",
       "    .dataframe thead th {\n",
       "        text-align: right;\n",
       "    }\n",
       "</style>\n",
       "<table border=\"1\" class=\"dataframe\">\n",
       "  <thead>\n",
       "    <tr style=\"text-align: right;\">\n",
       "      <th></th>\n",
       "      <th>price</th>\n",
       "    </tr>\n",
       "  </thead>\n",
       "  <tbody>\n",
       "    <tr>\n",
       "      <th>count</th>\n",
       "      <td>2447.000000</td>\n",
       "    </tr>\n",
       "    <tr>\n",
       "      <th>mean</th>\n",
       "      <td>41.590196</td>\n",
       "    </tr>\n",
       "    <tr>\n",
       "      <th>std</th>\n",
       "      <td>35.485785</td>\n",
       "    </tr>\n",
       "    <tr>\n",
       "      <th>min</th>\n",
       "      <td>0.000000</td>\n",
       "    </tr>\n",
       "    <tr>\n",
       "      <th>25%</th>\n",
       "      <td>23.605000</td>\n",
       "    </tr>\n",
       "    <tr>\n",
       "      <th>50%</th>\n",
       "      <td>33.000000</td>\n",
       "    </tr>\n",
       "    <tr>\n",
       "      <th>75%</th>\n",
       "      <td>46.240000</td>\n",
       "    </tr>\n",
       "    <tr>\n",
       "      <th>max</th>\n",
       "      <td>487.950000</td>\n",
       "    </tr>\n",
       "  </tbody>\n",
       "</table>\n",
       "</div>"
      ],
      "text/plain": [
       "             price\n",
       "count  2447.000000\n",
       "mean     41.590196\n",
       "std      35.485785\n",
       "min       0.000000\n",
       "25%      23.605000\n",
       "50%      33.000000\n",
       "75%      46.240000\n",
       "max     487.950000"
      ]
     },
     "execution_count": 16,
     "metadata": {},
     "output_type": "execute_result"
    }
   ],
   "source": [
    "book_df.describe()"
   ]
  },
  {
   "cell_type": "code",
   "execution_count": 18,
   "metadata": {},
   "outputs": [
    {
     "data": {
      "image/png": "[encoded data removed]",
      "text/plain": [
       "<Figure size 1800x360 with 1 Axes>"
      ]
     },
     "metadata": {
      "needs_background": "light"
     },
     "output_type": "display_data"
    }
   ],
   "source": [
    "figure = plt.figure(figsize=(25,5))\n",
    "plt.hist(book_df[\"number_of_review\"] ,bins=20)\n",
    "plt.xlabel(\"Viewer Number\")\n",
    "plt.ylabel(\"Book Quantity\")\n",
    "plt.show()"
   ]
  },
  {
   "cell_type": "code",
   "execution_count": null,
   "metadata": {},
   "outputs": [],
   "source": []
  }
 ],
 "metadata": {
  "colab": {
   "collapsed_sections": [],
   "name": "project_2.ipynb",
   "provenance": []
  },
  "kernelspec": {
   "display_name": "Python 3 (ipykernel)",
   "language": "python",
   "name": "python3"
  },
  "language_info": {
   "codemirror_mode": {
    "name": "ipython",
    "version": 3
   },
   "file_extension": ".py",
   "mimetype": "text/x-python",
   "name": "python",
   "nbconvert_exporter": "python",
   "pygments_lexer": "ipython3",
   "version": "3.10.4"
  }
 },
 "nbformat": 4,
 "nbformat_minor": 1
}
