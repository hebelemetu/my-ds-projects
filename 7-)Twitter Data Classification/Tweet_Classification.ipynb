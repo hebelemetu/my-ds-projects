{
 "cells": [
  {
   "cell_type": "markdown",
   "metadata": {},
   "source": [
    "### Kütüphane Yüklenmesi"
   ]
  },
  {
   "cell_type": "code",
   "execution_count": 1,
   "metadata": {},
   "outputs": [
    {
     "name": "stderr",
     "output_type": "stream",
     "text": [
      "[nltk_data] Downloading package stopwords to\n",
      "[nltk_data]     C:\\Users\\Cihat\\AppData\\Roaming\\nltk_data...\n",
      "[nltk_data]   Package stopwords is already up-to-date!\n"
     ]
    },
    {
     "data": {
      "text/plain": [
       "True"
      ]
     },
     "execution_count": 1,
     "metadata": {},
     "output_type": "execute_result"
    }
   ],
   "source": [
    "#Gerekli kütüphaneler\n",
    "import pickle\n",
    "import re\n",
    "import numpy as np\n",
    "import pandas as pd\n",
    "from tqdm import tqdm\n",
    "import nltk\n",
    "nltk.download('stopwords')"
   ]
  },
  {
   "cell_type": "markdown",
   "metadata": {},
   "source": [
    "### Data Hazırlanması"
   ]
  },
  {
   "cell_type": "code",
   "execution_count": 2,
   "metadata": {},
   "outputs": [],
   "source": [
    "#HTML taglerinden vs. arındırmak için oluşturulan fonksiyon\n",
    "def preprocess_tweet(text):\n",
    "    text = re.sub('<[^>]*>', '', text)\n",
    "    emoticons = re.findall('(?::|;|=)(?:-)?(?:\\)|\\(|D|P)', text)\n",
    "    text = re.sub('[\\W]+', ' ', text.lower())\n",
    "    text = text+' '.join(emoticons).replace('-', '') \n",
    "    return text"
   ]
  },
  {
   "cell_type": "code",
   "execution_count": 3,
   "metadata": {},
   "outputs": [
    {
     "data": {
      "text/html": [
       "<div>\n",
       "<style scoped>\n",
       "    .dataframe tbody tr th:only-of-type {\n",
       "        vertical-align: middle;\n",
       "    }\n",
       "\n",
       "    .dataframe tbody tr th {\n",
       "        vertical-align: top;\n",
       "    }\n",
       "\n",
       "    .dataframe thead th {\n",
       "        text-align: right;\n",
       "    }\n",
       "</style>\n",
       "<table border=\"1\" class=\"dataframe\">\n",
       "  <thead>\n",
       "    <tr style=\"text-align: right;\">\n",
       "      <th></th>\n",
       "      <th>label</th>\n",
       "      <th>tweet</th>\n",
       "    </tr>\n",
       "  </thead>\n",
       "  <tbody>\n",
       "    <tr>\n",
       "      <th>0</th>\n",
       "      <td>1</td>\n",
       "      <td>my life is meaningless i just want to end my l...</td>\n",
       "    </tr>\n",
       "    <tr>\n",
       "      <th>1</th>\n",
       "      <td>1</td>\n",
       "      <td>muttering i wanna die to myself daily for a fe...</td>\n",
       "    </tr>\n",
       "    <tr>\n",
       "      <th>2</th>\n",
       "      <td>1</td>\n",
       "      <td>work slave i really feel like my only purpose ...</td>\n",
       "    </tr>\n",
       "    <tr>\n",
       "      <th>3</th>\n",
       "      <td>1</td>\n",
       "      <td>i did something on the 2 of october i overdose...</td>\n",
       "    </tr>\n",
       "    <tr>\n",
       "      <th>4</th>\n",
       "      <td>1</td>\n",
       "      <td>i feel like no one cares i just want to die ma...</td>\n",
       "    </tr>\n",
       "  </tbody>\n",
       "</table>\n",
       "</div>"
      ],
      "text/plain": [
       "   label                                              tweet\n",
       "0      1  my life is meaningless i just want to end my l...\n",
       "1      1  muttering i wanna die to myself daily for a fe...\n",
       "2      1  work slave i really feel like my only purpose ...\n",
       "3      1  i did something on the 2 of october i overdose...\n",
       "4      1  i feel like no one cares i just want to die ma..."
      ]
     },
     "execution_count": 3,
     "metadata": {},
     "output_type": "execute_result"
    }
   ],
   "source": [
    "#Veri setinin pandas kütüphanesi ile yüklenmesi ve görüntülenmesi\n",
    "df = pd.read_csv('suicidal_data.csv')\n",
    "df.head()"
   ]
  },
  {
   "cell_type": "code",
   "execution_count": 4,
   "metadata": {},
   "outputs": [
    {
     "data": {
      "text/html": [
       "<div>\n",
       "<style scoped>\n",
       "    .dataframe tbody tr th:only-of-type {\n",
       "        vertical-align: middle;\n",
       "    }\n",
       "\n",
       "    .dataframe tbody tr th {\n",
       "        vertical-align: top;\n",
       "    }\n",
       "\n",
       "    .dataframe thead th {\n",
       "        text-align: right;\n",
       "    }\n",
       "</style>\n",
       "<table border=\"1\" class=\"dataframe\">\n",
       "  <thead>\n",
       "    <tr style=\"text-align: right;\">\n",
       "      <th></th>\n",
       "      <th>label</th>\n",
       "    </tr>\n",
       "  </thead>\n",
       "  <tbody>\n",
       "    <tr>\n",
       "      <th>count</th>\n",
       "      <td>9119.000000</td>\n",
       "    </tr>\n",
       "    <tr>\n",
       "      <th>mean</th>\n",
       "      <td>0.438425</td>\n",
       "    </tr>\n",
       "    <tr>\n",
       "      <th>std</th>\n",
       "      <td>0.496221</td>\n",
       "    </tr>\n",
       "    <tr>\n",
       "      <th>min</th>\n",
       "      <td>0.000000</td>\n",
       "    </tr>\n",
       "    <tr>\n",
       "      <th>25%</th>\n",
       "      <td>0.000000</td>\n",
       "    </tr>\n",
       "    <tr>\n",
       "      <th>50%</th>\n",
       "      <td>0.000000</td>\n",
       "    </tr>\n",
       "    <tr>\n",
       "      <th>75%</th>\n",
       "      <td>1.000000</td>\n",
       "    </tr>\n",
       "    <tr>\n",
       "      <th>max</th>\n",
       "      <td>1.000000</td>\n",
       "    </tr>\n",
       "  </tbody>\n",
       "</table>\n",
       "</div>"
      ],
      "text/plain": [
       "             label\n",
       "count  9119.000000\n",
       "mean      0.438425\n",
       "std       0.496221\n",
       "min       0.000000\n",
       "25%       0.000000\n",
       "50%       0.000000\n",
       "75%       1.000000\n",
       "max       1.000000"
      ]
     },
     "execution_count": 4,
     "metadata": {},
     "output_type": "execute_result"
    }
   ],
   "source": [
    "#Data setin incelenmesi\n",
    "df.describe()"
   ]
  },
  {
   "cell_type": "code",
   "execution_count": 5,
   "metadata": {},
   "outputs": [
    {
     "data": {
      "text/plain": [
       "0    my life is meaningless i just want to end my l...\n",
       "1    muttering i wanna die to myself daily for a fe...\n",
       "2    work slave i really feel like my only purpose ...\n",
       "3    i did something on the 2 of october i overdose...\n",
       "4    i feel like no one cares i just want to die ma...\n",
       "Name: tweet, dtype: object"
      ]
     },
     "execution_count": 5,
     "metadata": {},
     "output_type": "execute_result"
    }
   ],
   "source": [
    "#Oluşturulan fonksiyonun tweetlere uygulanması\n",
    "df['tweet'] = df['tweet'].apply(preprocess_tweet)\n",
    "df['tweet'].head()"
   ]
  },
  {
   "cell_type": "code",
   "execution_count": 6,
   "metadata": {},
   "outputs": [],
   "source": [
    "#Kelimelerdeki ekleri ayırmak ve kelimeleri sade hale getirmek için PorterStemmer import edilmesi\n",
    "from nltk.stem.porter import PorterStemmer\n",
    "porter = PorterStemmer()\n",
    "#Kelimeleri sadeleştirmek için fonksiyon oluşturulması\n",
    "def splitter(text):\n",
    "    return [porter.stem(word) for word in text.split()]"
   ]
  },
  {
   "cell_type": "code",
   "execution_count": 7,
   "metadata": {},
   "outputs": [],
   "source": [
    "#Stopwordsleri eleme işlemi. Stopword(A ,the,can,be gibi ek kelimeler )\n",
    "from nltk.corpus import stopwords\n",
    "#stop değişkeni içine ingilizcede bulunan stop wordlerin yerleştirilmesi\n",
    "stop = stopwords.words('english')"
   ]
  },
  {
   "cell_type": "code",
   "execution_count": 8,
   "metadata": {},
   "outputs": [
    {
     "data": {
      "text/plain": [
       "['runner', 'like', 'run', 'run', 'lot']"
      ]
     },
     "execution_count": 8,
     "metadata": {},
     "output_type": "execute_result"
    }
   ],
   "source": [
    "#fonksiyonun doğru çalıştığının kontrolü\n",
    "[w for w in splitter('a runner likes running and runs a lot') if w not in stop]"
   ]
  },
  {
   "cell_type": "code",
   "execution_count": 9,
   "metadata": {},
   "outputs": [],
   "source": [
    "#Noktalama işaretleri için ayıklama fonksiyonu\n",
    "def tokenizer(text):\n",
    "    text = re.sub('<[^>]*>', '', text)\n",
    "    emoticons = re.findall('(?::|;|=)(?:-)?(?:\\(|D|P)',text.lower())\n",
    "    text = re.sub('[\\W]+', ' ', text.lower())\n",
    "    text += ' '.join(emoticons).replace('-', '')\n",
    "    tokenized = [w for w in splitter(text) if w not in stop]\n",
    "    return tokenized"
   ]
  },
  {
   "cell_type": "code",
   "execution_count": 10,
   "metadata": {},
   "outputs": [],
   "source": [
    "#Ayıklama fonksiyonunun uygulanması\n",
    "from sklearn.feature_extraction.text import HashingVectorizer\n",
    "vect = HashingVectorizer(decode_error='ignore', n_features=2**21, \n",
    "                         preprocessor=None,tokenizer=tokenizer)"
   ]
  },
  {
   "cell_type": "markdown",
   "metadata": {},
   "source": [
    "### Model Oluşturma"
   ]
  },
  {
   "cell_type": "markdown",
   "metadata": {},
   "source": [
    "### Kullanılacak Modeller\n",
    "### 1-Decision Tree\n",
    "### 2-Naive Bayes\n",
    "### 3-Random Forest\n",
    "### 4-SVM"
   ]
  },
  {
   "cell_type": "markdown",
   "metadata": {},
   "source": [
    "### Decision Tree"
   ]
  },
  {
   "cell_type": "code",
   "execution_count": 11,
   "metadata": {},
   "outputs": [],
   "source": [
    "#Decision tree model import\n",
    "from sklearn.tree import DecisionTreeClassifier \n",
    "clf = DecisionTreeClassifier(criterion='entropy')"
   ]
  },
  {
   "cell_type": "code",
   "execution_count": 12,
   "metadata": {},
   "outputs": [],
   "source": [
    "#Dataframe ayrışması X ve y olarak\n",
    "X = df[\"tweet\"].to_list()\n",
    "y = df['label']"
   ]
  },
  {
   "cell_type": "code",
   "execution_count": 13,
   "metadata": {},
   "outputs": [],
   "source": [
    "#Train ve test olarak 0.2 test olacak şekilde ayarlama\n",
    "from sklearn.model_selection import train_test_split\n",
    "X_train,X_test,y_train,y_test = train_test_split(X,\n",
    "                                                 y,\n",
    "                                                 test_size=0.20,\n",
    "                                                 random_state=0)"
   ]
  },
  {
   "cell_type": "code",
   "execution_count": 14,
   "metadata": {},
   "outputs": [],
   "source": [
    "#Train ve test datalarının sayıya çevrilmesi\n",
    "X_train = vect.transform(X_train)\n",
    "X_test = vect.transform(X_test)"
   ]
  },
  {
   "cell_type": "code",
   "execution_count": 15,
   "metadata": {},
   "outputs": [
    {
     "name": "stdout",
     "output_type": "stream",
     "text": [
      "  (0, 151219)\t0.2672612419124244\n",
      "  (0, 154172)\t-0.2672612419124244\n",
      "  (0, 228212)\t0.2672612419124244\n",
      "  (0, 661528)\t0.2672612419124244\n",
      "  (0, 694123)\t-0.2672612419124244\n",
      "  (0, 710246)\t0.2672612419124244\n",
      "  (0, 784864)\t0.2672612419124244\n",
      "  (0, 976248)\t0.2672612419124244\n",
      "  (0, 1322294)\t0.2672612419124244\n",
      "  (0, 1471014)\t-0.2672612419124244\n",
      "  (0, 1596840)\t-0.2672612419124244\n",
      "  (0, 1758113)\t0.2672612419124244\n",
      "  (0, 1832641)\t-0.2672612419124244\n",
      "  (0, 2024407)\t-0.2672612419124244\n",
      "  (1, 338426)\t0.5\n",
      "  (1, 593689)\t-0.5\n",
      "  (1, 744205)\t0.5\n",
      "  (1, 1934985)\t0.5\n",
      "  (2, 32040)\t0.22360679774997896\n",
      "  (2, 112243)\t-0.22360679774997896\n",
      "  (2, 427915)\t-0.22360679774997896\n",
      "  (2, 623124)\t-0.22360679774997896\n",
      "  (2, 963085)\t-0.22360679774997896\n",
      "  (2, 976011)\t-0.22360679774997896\n",
      "  (2, 1047103)\t0.22360679774997896\n",
      "  :\t:\n",
      "  (7294, 1526592)\t-0.4629100498862757\n",
      "  (7294, 1567522)\t0.07715167498104596\n",
      "  (7294, 1622622)\t0.07715167498104596\n",
      "  (7294, 1643429)\t0.07715167498104596\n",
      "  (7294, 1644930)\t0.07715167498104596\n",
      "  (7294, 1670400)\t0.1543033499620919\n",
      "  (7294, 1673235)\t0.07715167498104596\n",
      "  (7294, 1735872)\t0.07715167498104596\n",
      "  (7294, 1742006)\t-0.07715167498104596\n",
      "  (7294, 1743028)\t-0.07715167498104596\n",
      "  (7294, 1750884)\t0.07715167498104596\n",
      "  (7294, 1756000)\t-0.07715167498104596\n",
      "  (7294, 1766313)\t0.07715167498104596\n",
      "  (7294, 1768857)\t0.1543033499620919\n",
      "  (7294, 1779151)\t0.07715167498104596\n",
      "  (7294, 1788421)\t0.07715167498104596\n",
      "  (7294, 1882371)\t-0.1543033499620919\n",
      "  (7294, 1947028)\t0.07715167498104596\n",
      "  (7294, 1985050)\t0.07715167498104596\n",
      "  (7294, 2003679)\t0.07715167498104596\n",
      "  (7294, 2020249)\t-0.07715167498104596\n",
      "  (7294, 2021269)\t0.07715167498104596\n",
      "  (7294, 2024407)\t-0.07715167498104596\n",
      "  (7294, 2082951)\t-0.07715167498104596\n",
      "  (7294, 2083706)\t0.07715167498104596\n"
     ]
    }
   ],
   "source": [
    "print(X_train)"
   ]
  },
  {
   "cell_type": "code",
   "execution_count": 16,
   "metadata": {},
   "outputs": [
    {
     "data": {
      "text/plain": [
       "DecisionTreeClassifier(criterion='entropy')"
      ]
     },
     "execution_count": 16,
     "metadata": {},
     "output_type": "execute_result"
    }
   ],
   "source": [
    "#Train datayı modele oturtmak\n",
    "clf.fit(X_train, y_train)"
   ]
  },
  {
   "cell_type": "code",
   "execution_count": 17,
   "metadata": {},
   "outputs": [
    {
     "name": "stdout",
     "output_type": "stream",
     "text": [
      "Accuracy: 0.874\n"
     ]
    }
   ],
   "source": [
    "#Accuracy ölçümü\n",
    "print('Accuracy: %.3f' % clf.score(X_test, y_test))"
   ]
  },
  {
   "cell_type": "code",
   "execution_count": 18,
   "metadata": {},
   "outputs": [
    {
     "name": "stdout",
     "output_type": "stream",
     "text": [
      "Per-class precision score: [0.90188679 0.83638743]\n",
      "Per-class recall score: [0.88436633 0.86002692]\n",
      "Per-class f1 score: [0.89304064 0.84804247]\n"
     ]
    }
   ],
   "source": [
    "y_pred = clf.predict(X_test)\n",
    "#Performans metrics\n",
    "from sklearn.metrics import precision_score\n",
    "from sklearn.metrics import recall_score\n",
    "from sklearn.metrics import f1_score\n",
    "per_class_precision = precision_score(y_pred, y_test, average=None)\n",
    "print('Per-class precision score:', per_class_precision)\n",
    "per_class_recall = recall_score(y_pred, y_test, average=None)\n",
    "print('Per-class recall score:', per_class_recall)\n",
    "per_class_recall_f1_score = f1_score(y_pred, y_test, average=None)\n",
    "print('Per-class f1 score:', per_class_recall_f1_score)"
   ]
  },
  {
   "cell_type": "markdown",
   "metadata": {},
   "source": [
    "### Test ve Tahminde bulunma"
   ]
  },
  {
   "cell_type": "code",
   "execution_count": 19,
   "metadata": {},
   "outputs": [
    {
     "name": "stdout",
     "output_type": "stream",
     "text": [
      "Prediction: positive\n",
      "Probability: 100.00%\n"
     ]
    }
   ],
   "source": [
    "#0 sınıfı negative 1 sınıfı pozitif tweetleri içeriyor. Atılan tweetin pozitif mi negatif mi olduğunu tespit edebiliyoruz\n",
    "label = {0:'negative', 1:'positive'}\n",
    "example = [\"I'll kill myself am tired of living depressed and alone\"]\n",
    "X = vect.transform(example)\n",
    "print('Prediction: %s\\nProbability: %.2f%%'\n",
    "      %(label[clf.predict(X)[0]],np.max(clf.predict_proba(X))*100))"
   ]
  },
  {
   "cell_type": "code",
   "execution_count": 20,
   "metadata": {},
   "outputs": [
    {
     "name": "stdout",
     "output_type": "stream",
     "text": [
      "Prediction: negative\n",
      "Probability: 100.00%\n"
     ]
    }
   ],
   "source": [
    "label = {0:'negative', 1:'positive'}\n",
    "example = [\"It's such a hot day, I'd like to have ice cream and visit the park\"]\n",
    "X = vect.transform(example)\n",
    "print('Prediction: %s\\nProbability: %.2f%%'\n",
    "      %(label[clf.predict(X)[0]],np.max(clf.predict_proba(X))*100))"
   ]
  },
  {
   "cell_type": "markdown",
   "metadata": {},
   "source": [
    "### Random Forest Classifier"
   ]
  },
  {
   "cell_type": "code",
   "execution_count": 21,
   "metadata": {},
   "outputs": [
    {
     "name": "stdout",
     "output_type": "stream",
     "text": [
      "<class 'scipy.sparse.csr.csr_matrix'>\n"
     ]
    }
   ],
   "source": [
    "print(type(X_train))"
   ]
  },
  {
   "cell_type": "code",
   "execution_count": 22,
   "metadata": {},
   "outputs": [
    {
     "data": {
      "text/plain": [
       "RandomForestClassifier()"
      ]
     },
     "execution_count": 22,
     "metadata": {},
     "output_type": "execute_result"
    }
   ],
   "source": [
    "from sklearn.ensemble import RandomForestClassifier\n",
    "rfc = RandomForestClassifier()\n",
    "rfc.fit(X_train,y_train)"
   ]
  },
  {
   "cell_type": "code",
   "execution_count": 24,
   "metadata": {},
   "outputs": [
    {
     "data": {
      "text/plain": [
       "GridSearchCV(cv=3, estimator=RandomForestClassifier(),\n",
       "             param_grid={'criterion': ['gini', 'entropy'],\n",
       "                         'max_depth': [4, 5, 6],\n",
       "                         'max_features': ['auto', 'sqrt', 'log2']})"
      ]
     },
     "execution_count": 24,
     "metadata": {},
     "output_type": "execute_result"
    }
   ],
   "source": [
    "#Gridsearchcv metodu ile hyperparameter tuning\n",
    "from sklearn.model_selection import GridSearchCV\n",
    "param_grid = { \n",
    "    'max_features': ['auto', 'sqrt', 'log2'],\n",
    "        'max_depth' : [4,5,6],\n",
    "    'criterion' :['gini', 'entropy']\n",
    "}\n",
    "CV_rfc = GridSearchCV(estimator=rfc, param_grid=param_grid, cv= 3)\n",
    "CV_rfc.fit(X_train, y_train)"
   ]
  },
  {
   "cell_type": "code",
   "execution_count": 25,
   "metadata": {},
   "outputs": [
    {
     "name": "stdout",
     "output_type": "stream",
     "text": [
      "Per-class precision score: [1.         0.35863874]\n",
      "Per-class recall score: [0.68387097 1.        ]\n",
      "Per-class f1 score: [0.81226054 0.52793834]\n"
     ]
    }
   ],
   "source": [
    "y_pred = CV_rfc.predict(X_test)\n",
    "from sklearn.metrics import precision_score\n",
    "from sklearn.metrics import recall_score\n",
    "from sklearn.metrics import f1_score\n",
    "per_class_precision = precision_score(y_pred, y_test, average=None)\n",
    "print('Per-class precision score:', per_class_precision)\n",
    "per_class_recall = recall_score(y_pred, y_test, average=None)\n",
    "print('Per-class recall score:', per_class_recall)\n",
    "per_class_recall_f1_score = f1_score(y_pred, y_test, average=None)\n",
    "print('Per-class f1 score:', per_class_recall_f1_score)"
   ]
  },
  {
   "cell_type": "markdown",
   "metadata": {},
   "source": [
    "### Test ve Tahminde bulunma"
   ]
  },
  {
   "cell_type": "code",
   "execution_count": 34,
   "metadata": {},
   "outputs": [
    {
     "name": "stdout",
     "output_type": "stream",
     "text": [
      "Prediction: negative\n",
      "Probability: 58.51%\n"
     ]
    }
   ],
   "source": [
    "#0 sınıfı negative 1 sınıfı pozitif tweetleri içeriyor. Atılan tweetin pozitif mi negatif mi olduğunu tespit edebiliyoruz\n",
    "label = {0:'negative', 1:'positive'}\n",
    "example = [\"I'll kill myself am tired of living depressed and alone\"]\n",
    "X = vect.transform(example)\n",
    "print('Prediction: %s\\nProbability: %.2f%%'\n",
    "      %(label[CV_rfc.predict(X)[0]],np.max(CV_rfc.predict_proba(X))*100))"
   ]
  },
  {
   "cell_type": "code",
   "execution_count": 35,
   "metadata": {},
   "outputs": [
    {
     "name": "stdout",
     "output_type": "stream",
     "text": [
      "Prediction: negative\n",
      "Probability: 59.99%\n"
     ]
    }
   ],
   "source": [
    "label = {0:'negative', 1:'positive'}\n",
    "example = [\"It's such a hot day, I'd like to have ice cream and visit the park\"]\n",
    "X = vect.transform(example)\n",
    "print('Prediction: %s\\nProbability: %.2f%%'\n",
    "      %(label[CV_rfc.predict(X)[0]],np.max(CV_rfc.predict_proba(X))*100))"
   ]
  },
  {
   "cell_type": "code",
   "execution_count": 29,
   "metadata": {},
   "outputs": [],
   "source": [
    "from sklearn.svm import SVC  \n",
    "svm = SVC(kernel='linear') "
   ]
  },
  {
   "cell_type": "markdown",
   "metadata": {},
   "source": [
    "### SUPPORT VECTOR MACHINE"
   ]
  },
  {
   "cell_type": "code",
   "execution_count": 30,
   "metadata": {},
   "outputs": [
    {
     "data": {
      "text/plain": [
       "SVC(kernel='linear')"
      ]
     },
     "execution_count": 30,
     "metadata": {},
     "output_type": "execute_result"
    }
   ],
   "source": [
    "svm.fit(X_train,y_train)"
   ]
  },
  {
   "cell_type": "code",
   "execution_count": 31,
   "metadata": {},
   "outputs": [
    {
     "name": "stdout",
     "output_type": "stream",
     "text": [
      "Per-class precision score: [0.95188679 0.86649215]\n",
      "Per-class recall score: [0.90819082 0.92847125]\n",
      "Per-class f1 score: [0.92952556 0.89641165]\n"
     ]
    }
   ],
   "source": [
    "y_pred = svm.predict(X_test)\n",
    "from sklearn.metrics import precision_score\n",
    "from sklearn.metrics import recall_score\n",
    "from sklearn.metrics import f1_score\n",
    "per_class_precision = precision_score(y_pred, y_test, average=None)\n",
    "print('Per-class precision score:', per_class_precision)\n",
    "per_class_recall = recall_score(y_pred, y_test, average=None)\n",
    "print('Per-class recall score:', per_class_recall)\n",
    "per_class_recall_f1_score = f1_score(y_pred, y_test, average=None)\n",
    "print('Per-class f1 score:', per_class_recall_f1_score)"
   ]
  },
  {
   "cell_type": "markdown",
   "metadata": {},
   "source": [
    "### Test ve Tahminde bulunma"
   ]
  },
  {
   "cell_type": "code",
   "execution_count": 39,
   "metadata": {},
   "outputs": [
    {
     "name": "stdout",
     "output_type": "stream",
     "text": [
      "Prediction: positive\n",
      "Probability: 100.00%\n"
     ]
    }
   ],
   "source": [
    "#0 sınıfı negative 1 sınıfı pozitif tweetleri içeriyor. Atılan tweetin pozitif mi negatif mi olduğunu tespit edebiliyoruz\n",
    "label = {0:'negative', 1:'positive'}\n",
    "example = [\"I'll kill myself am tired of living depressed and alone\"]\n",
    "X = vect.transform(example)\n",
    "print('Prediction: %s\\nProbability: %.2f%%'\n",
    "      %(label[svm.predict(X)[0]],np.max(svm.predict(X))*100))"
   ]
  },
  {
   "cell_type": "code",
   "execution_count": 40,
   "metadata": {},
   "outputs": [
    {
     "name": "stdout",
     "output_type": "stream",
     "text": [
      "Prediction: negative\n",
      "Probability: 0.00%\n"
     ]
    }
   ],
   "source": [
    "label = {0:'negative', 1:'positive'}\n",
    "example = [\"It's such a hot day, I'd like to have ice cream and visit the park\"]\n",
    "X = vect.transform(example)\n",
    "print('Prediction: %s\\nProbability: %.2f%%'\n",
    "      %(label[svm.predict(X)[0]],np.max(svm.predict(X))*100))"
   ]
  },
  {
   "cell_type": "code",
   "execution_count": null,
   "metadata": {},
   "outputs": [],
   "source": []
  }
 ],
 "metadata": {
  "kernelspec": {
   "display_name": "Python 3 (ipykernel)",
   "language": "python",
   "name": "python3"
  },
  "language_info": {
   "codemirror_mode": {
    "name": "ipython",
    "version": 3
   },
   "file_extension": ".py",
   "mimetype": "text/x-python",
   "name": "python",
   "nbconvert_exporter": "python",
   "pygments_lexer": "ipython3",
   "version": "3.10.4"
  }
 },
 "nbformat": 4,
 "nbformat_minor": 4
}
